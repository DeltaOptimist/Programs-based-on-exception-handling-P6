{
  "nbformat": 4,
  "nbformat_minor": 0,
  "metadata": {
    "colab": {
      "provenance": []
    },
    "kernelspec": {
      "name": "python3",
      "display_name": "Python 3"
    },
    "language_info": {
      "name": "python"
    }
  },
  "cells": [
    {
      "cell_type": "markdown",
      "source": [
        "Programs based on exception handling\n",
        "\n",
        "1. Handling Multiple Exceptions With A Single Except"
      ],
      "metadata": {
        "id": "cdNDlGYg0hVi"
      }
    },
    {
      "cell_type": "code",
      "execution_count": 3,
      "metadata": {
        "colab": {
          "base_uri": "https://localhost:8080/"
        },
        "id": "188u55RqyY4F",
        "outputId": "e3d1de57-eadc-466c-d918-23ba8140d4d5"
      },
      "outputs": [
        {
          "output_type": "stream",
          "name": "stdout",
          "text": [
            "division by zero\n"
          ]
        }
      ],
      "source": [
        "def get_fraction(value, idx):\n",
        " \n",
        "    arr = [4,5,2,0]      # a list of numbers\n",
        "    idx_value = arr[idx] # if idx is > arr length, IndexError will be raised\n",
        "    value/idx_value      # if idx_value == 0, ZeroDivisionError will be raised\n",
        " \n",
        "if __name__ =='__main__':\n",
        "    # set 'value' and 'idx'\n",
        "    value = 54\n",
        "    idx = 3\n",
        "    # call function in a try-except statement.\n",
        "    try:\n",
        "        result = get_fraction(value, idx)\n",
        "        print(\"Fraction is \", result)\n",
        "    except (IndexError, ZeroDivisionError) as ex:\n",
        "        print(ex)"
      ]
    },
    {
      "cell_type": "markdown",
      "source": [
        "2. Handling Multiple Exceptions With Multiple Excepts"
      ],
      "metadata": {
        "id": "DjENDGIk0gTa"
      }
    },
    {
      "cell_type": "code",
      "source": [
        "def get_fraction(value, idx):\n",
        " \n",
        "    arr = [4,5,2,0]      # a list of numbers\n",
        "    idx_value = arr[idx] # if idx is > arr length, IndexError will be raised\n",
        "    value/idx_value      # if idx_value == 0, ZeroDivisionError will be raised\n",
        " \n",
        "if __name__ =='__main__':\n",
        "    # set 'value' and 'idx'\n",
        "    value = 54\n",
        "    idx = 8\n",
        "    # call function in a try-excepts statement.\n",
        "    try:\n",
        "        result = get_fraction(value, idx)\n",
        "        print(\"Fraction is \", result)\n",
        "    except IndexError:\n",
        "        print(\"idx of {} is out of range\".format(idx))\n",
        "    except ZeroDivisionError:\n",
        "        print(\"arr[{}] is 0. Hence, can't divide by zero\".format(idx))\n",
        "    except Exception as ex:\n",
        "        print(ex)\n",
        "        print(\"Not sure what happened so not safe to continue, \\\n",
        "            app will be interrupted\")\n",
        "        raise ex"
      ],
      "metadata": {
        "colab": {
          "base_uri": "https://localhost:8080/"
        },
        "id": "hQR9GIdt4Wtz",
        "outputId": "e9fcd750-21cc-4334-8139-79e72925fb88"
      },
      "execution_count": 7,
      "outputs": [
        {
          "output_type": "stream",
          "name": "stdout",
          "text": [
            "idx of 8 is out of range\n"
          ]
        }
      ]
    },
    {
      "cell_type": "code",
      "source": [],
      "metadata": {
        "id": "UKBhNaoq4v4Q"
      },
      "execution_count": null,
      "outputs": []
    }
  ]
}